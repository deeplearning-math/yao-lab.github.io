{
 "cells": [
  {
   "cell_type": "markdown",
   "metadata": {},
   "source": [
    "# MATH4995 Capstone Project - Project 1"
   ]
  },
  {
   "cell_type": "markdown",
   "metadata": {},
   "source": [
    "##### WONG Wing Kin 20504727 "
   ]
  },
  {
   "cell_type": "code",
   "execution_count": 33,
   "metadata": {},
   "outputs": [],
   "source": [
    "import pandas as pd\n",
    "import numpy as np\n",
    "import matplotlib.pyplot as plt\n",
    "import seaborn as sns\n",
    "\n",
    "import statsmodels.formula.api as smf"
   ]
  },
  {
   "cell_type": "markdown",
   "metadata": {},
   "source": [
    "##### Read CSV"
   ]
  },
  {
   "cell_type": "code",
   "execution_count": 34,
   "metadata": {},
   "outputs": [],
   "source": [
    "data = pd.read_csv(\"train.csv\")\n",
    "\n",
    "result = pd.read_csv(\"test.csv\")\n",
    "\n",
    "# Drop the columns that are not useful\n",
    "#data.drop('PassengerId', axis = 1, inplace = True)\n",
    "data.drop('Name', axis = 1, inplace = True)\n",
    "\n",
    "#result.drop('PassengerId', axis = 1, inplace = True)\n",
    "result.drop('Name', axis = 1, inplace = True)\n"
   ]
  },
  {
   "cell_type": "markdown",
   "metadata": {},
   "source": [
    "##### Check the Missing Value"
   ]
  },
  {
   "cell_type": "code",
   "execution_count": 35,
   "metadata": {},
   "outputs": [
    {
     "data": {
      "text/plain": [
       "PassengerId      0\n",
       "Survived         0\n",
       "Pclass           0\n",
       "Sex              0\n",
       "Age            177\n",
       "SibSp            0\n",
       "Parch            0\n",
       "Ticket           0\n",
       "Fare             0\n",
       "Cabin          687\n",
       "Embarked         2\n",
       "dtype: int64"
      ]
     },
     "execution_count": 35,
     "metadata": {},
     "output_type": "execute_result"
    }
   ],
   "source": [
    "data.isnull().sum()\n"
   ]
  },
  {
   "cell_type": "markdown",
   "metadata": {},
   "source": [
    "There are lots of missing value in Cabin. I don't think it is useful for prediction. So I drop it."
   ]
  },
  {
   "cell_type": "code",
   "execution_count": 36,
   "metadata": {},
   "outputs": [],
   "source": [
    "data.drop('Cabin', axis = 1, inplace = True)\n",
    "result.drop('Cabin', axis = 1, inplace = True)\n"
   ]
  },
  {
   "cell_type": "markdown",
   "metadata": {},
   "source": [
    "Also, There are 681 different Ticket which may not be useful for prediction. "
   ]
  },
  {
   "cell_type": "code",
   "execution_count": 37,
   "metadata": {},
   "outputs": [],
   "source": [
    "data.drop('Ticket', axis = 1, inplace = True)\n",
    "result.drop('Ticket', axis = 1, inplace = True)\n"
   ]
  },
  {
   "cell_type": "code",
   "execution_count": 38,
   "metadata": {},
   "outputs": [
    {
     "data": {
      "text/html": [
       "<div>\n",
       "<style scoped>\n",
       "    .dataframe tbody tr th:only-of-type {\n",
       "        vertical-align: middle;\n",
       "    }\n",
       "\n",
       "    .dataframe tbody tr th {\n",
       "        vertical-align: top;\n",
       "    }\n",
       "\n",
       "    .dataframe thead th {\n",
       "        text-align: right;\n",
       "    }\n",
       "</style>\n",
       "<table border=\"1\" class=\"dataframe\">\n",
       "  <thead>\n",
       "    <tr style=\"text-align: right;\">\n",
       "      <th></th>\n",
       "      <th>PassengerId</th>\n",
       "      <th>Survived</th>\n",
       "      <th>Pclass</th>\n",
       "      <th>Sex</th>\n",
       "      <th>Age</th>\n",
       "      <th>SibSp</th>\n",
       "      <th>Parch</th>\n",
       "      <th>Fare</th>\n",
       "      <th>Embarked</th>\n",
       "    </tr>\n",
       "  </thead>\n",
       "  <tbody>\n",
       "    <tr>\n",
       "      <th>0</th>\n",
       "      <td>1</td>\n",
       "      <td>0</td>\n",
       "      <td>3</td>\n",
       "      <td>male</td>\n",
       "      <td>22.0</td>\n",
       "      <td>1</td>\n",
       "      <td>0</td>\n",
       "      <td>7.2500</td>\n",
       "      <td>S</td>\n",
       "    </tr>\n",
       "    <tr>\n",
       "      <th>1</th>\n",
       "      <td>2</td>\n",
       "      <td>1</td>\n",
       "      <td>1</td>\n",
       "      <td>female</td>\n",
       "      <td>38.0</td>\n",
       "      <td>1</td>\n",
       "      <td>0</td>\n",
       "      <td>71.2833</td>\n",
       "      <td>C</td>\n",
       "    </tr>\n",
       "    <tr>\n",
       "      <th>2</th>\n",
       "      <td>3</td>\n",
       "      <td>1</td>\n",
       "      <td>3</td>\n",
       "      <td>female</td>\n",
       "      <td>26.0</td>\n",
       "      <td>0</td>\n",
       "      <td>0</td>\n",
       "      <td>7.9250</td>\n",
       "      <td>S</td>\n",
       "    </tr>\n",
       "    <tr>\n",
       "      <th>3</th>\n",
       "      <td>4</td>\n",
       "      <td>1</td>\n",
       "      <td>1</td>\n",
       "      <td>female</td>\n",
       "      <td>35.0</td>\n",
       "      <td>1</td>\n",
       "      <td>0</td>\n",
       "      <td>53.1000</td>\n",
       "      <td>S</td>\n",
       "    </tr>\n",
       "    <tr>\n",
       "      <th>4</th>\n",
       "      <td>5</td>\n",
       "      <td>0</td>\n",
       "      <td>3</td>\n",
       "      <td>male</td>\n",
       "      <td>35.0</td>\n",
       "      <td>0</td>\n",
       "      <td>0</td>\n",
       "      <td>8.0500</td>\n",
       "      <td>S</td>\n",
       "    </tr>\n",
       "    <tr>\n",
       "      <th>...</th>\n",
       "      <td>...</td>\n",
       "      <td>...</td>\n",
       "      <td>...</td>\n",
       "      <td>...</td>\n",
       "      <td>...</td>\n",
       "      <td>...</td>\n",
       "      <td>...</td>\n",
       "      <td>...</td>\n",
       "      <td>...</td>\n",
       "    </tr>\n",
       "    <tr>\n",
       "      <th>886</th>\n",
       "      <td>887</td>\n",
       "      <td>0</td>\n",
       "      <td>2</td>\n",
       "      <td>male</td>\n",
       "      <td>27.0</td>\n",
       "      <td>0</td>\n",
       "      <td>0</td>\n",
       "      <td>13.0000</td>\n",
       "      <td>S</td>\n",
       "    </tr>\n",
       "    <tr>\n",
       "      <th>887</th>\n",
       "      <td>888</td>\n",
       "      <td>1</td>\n",
       "      <td>1</td>\n",
       "      <td>female</td>\n",
       "      <td>19.0</td>\n",
       "      <td>0</td>\n",
       "      <td>0</td>\n",
       "      <td>30.0000</td>\n",
       "      <td>S</td>\n",
       "    </tr>\n",
       "    <tr>\n",
       "      <th>888</th>\n",
       "      <td>889</td>\n",
       "      <td>0</td>\n",
       "      <td>3</td>\n",
       "      <td>female</td>\n",
       "      <td>NaN</td>\n",
       "      <td>1</td>\n",
       "      <td>2</td>\n",
       "      <td>23.4500</td>\n",
       "      <td>S</td>\n",
       "    </tr>\n",
       "    <tr>\n",
       "      <th>889</th>\n",
       "      <td>890</td>\n",
       "      <td>1</td>\n",
       "      <td>1</td>\n",
       "      <td>male</td>\n",
       "      <td>26.0</td>\n",
       "      <td>0</td>\n",
       "      <td>0</td>\n",
       "      <td>30.0000</td>\n",
       "      <td>C</td>\n",
       "    </tr>\n",
       "    <tr>\n",
       "      <th>890</th>\n",
       "      <td>891</td>\n",
       "      <td>0</td>\n",
       "      <td>3</td>\n",
       "      <td>male</td>\n",
       "      <td>32.0</td>\n",
       "      <td>0</td>\n",
       "      <td>0</td>\n",
       "      <td>7.7500</td>\n",
       "      <td>Q</td>\n",
       "    </tr>\n",
       "  </tbody>\n",
       "</table>\n",
       "<p>891 rows × 9 columns</p>\n",
       "</div>"
      ],
      "text/plain": [
       "     PassengerId  Survived  Pclass     Sex   Age  SibSp  Parch     Fare  \\\n",
       "0              1         0       3    male  22.0      1      0   7.2500   \n",
       "1              2         1       1  female  38.0      1      0  71.2833   \n",
       "2              3         1       3  female  26.0      0      0   7.9250   \n",
       "3              4         1       1  female  35.0      1      0  53.1000   \n",
       "4              5         0       3    male  35.0      0      0   8.0500   \n",
       "..           ...       ...     ...     ...   ...    ...    ...      ...   \n",
       "886          887         0       2    male  27.0      0      0  13.0000   \n",
       "887          888         1       1  female  19.0      0      0  30.0000   \n",
       "888          889         0       3  female   NaN      1      2  23.4500   \n",
       "889          890         1       1    male  26.0      0      0  30.0000   \n",
       "890          891         0       3    male  32.0      0      0   7.7500   \n",
       "\n",
       "    Embarked  \n",
       "0          S  \n",
       "1          C  \n",
       "2          S  \n",
       "3          S  \n",
       "4          S  \n",
       "..       ...  \n",
       "886        S  \n",
       "887        S  \n",
       "888        S  \n",
       "889        C  \n",
       "890        Q  \n",
       "\n",
       "[891 rows x 9 columns]"
      ]
     },
     "execution_count": 38,
     "metadata": {},
     "output_type": "execute_result"
    }
   ],
   "source": [
    "data"
   ]
  },
  {
   "cell_type": "code",
   "execution_count": 40,
   "metadata": {},
   "outputs": [
    {
     "data": {
      "text/plain": [
       "<seaborn.axisgrid.FacetGrid at 0x2493e691908>"
      ]
     },
     "execution_count": 40,
     "metadata": {},
     "output_type": "execute_result"
    },
    {
     "data": {
      "image/png": "[encoded data removed]",
      "text/plain": [
       "<Figure size 432x216 with 2 Axes>"
      ]
     },
     "metadata": {
      "needs_background": "light"
     },
     "output_type": "display_data"
    },
    {
     "data": {
      "image/png": "[encoded data removed]",
      "text/plain": [
       "<Figure size 432x216 with 2 Axes>"
      ]
     },
     "metadata": {
      "needs_background": "light"
     },
     "output_type": "display_data"
    },
    {
     "data": {
      "image/png": "[encoded data removed]",
      "text/plain": [
       "<Figure size 432x216 with 2 Axes>"
      ]
     },
     "metadata": {
      "needs_background": "light"
     },
     "output_type": "display_data"
    },
    {
     "data": {
      "image/png": "[encoded data removed]",
      "text/plain": [
       "<Figure size 432x216 with 2 Axes>"
      ]
     },
     "metadata": {
      "needs_background": "light"
     },
     "output_type": "display_data"
    },
    {
     "data": {
      "image/png": "[encoded data removed]",
      "text/plain": [
       "<Figure size 432x216 with 2 Axes>"
      ]
     },
     "metadata": {
      "needs_background": "light"
     },
     "output_type": "display_data"
    },
    {
     "data": {
      "image/png": "[encoded data removed]",
      "text/plain": [
       "<Figure size 432x216 with 2 Axes>"
      ]
     },
     "metadata": {
      "needs_background": "light"
     },
     "output_type": "display_data"
    },
    {
     "data": {
      "image/png": "[encoded data removed]",
      "text/plain": [
       "<Figure size 432x216 with 2 Axes>"
      ]
     },
     "metadata": {
      "needs_background": "light"
     },
     "output_type": "display_data"
    }
   ],
   "source": [
    "sns.FacetGrid(data, col='Survived').map(plt.hist, 'Pclass')\n",
    "sns.FacetGrid(data, col='Survived').map(plt.hist, 'Age', bins=20)\n",
    "sns.FacetGrid(data, col='Survived').map(plt.hist, 'Sex')\n",
    "sns.FacetGrid(data, col='Survived').map(plt.hist, 'SibSp')\n",
    "sns.FacetGrid(data, col='Survived').map(plt.hist, 'Parch')\n",
    "sns.FacetGrid(data, col='Survived').map(plt.hist, 'Fare')\n",
    "sns.FacetGrid(data, col='Survived').map(plt.hist, 'Embarked')\n"
   ]
  },
  {
   "cell_type": "markdown",
   "metadata": {},
   "source": [
    "### Multiple Linear Regressions"
   ]
  },
  {
   "cell_type": "code",
   "execution_count": 41,
   "metadata": {},
   "outputs": [
    {
     "data": {
      "text/html": [
       "<table class=\"simpletable\">\n",
       "<caption>OLS Regression Results</caption>\n",
       "<tr>\n",
       "  <th>Dep. Variable:</th>        <td>Survived</td>     <th>  R-squared:         </th> <td>   0.401</td>\n",
       "</tr>\n",
       "<tr>\n",
       "  <th>Model:</th>                   <td>OLS</td>       <th>  Adj. R-squared:    </th> <td>   0.394</td>\n",
       "</tr>\n",
       "<tr>\n",
       "  <th>Method:</th>             <td>Least Squares</td>  <th>  F-statistic:       </th> <td>   58.84</td>\n",
       "</tr>\n",
       "<tr>\n",
       "  <th>Date:</th>             <td>Sun, 04 Oct 2020</td> <th>  Prob (F-statistic):</th> <td>2.73e-73</td>\n",
       "</tr>\n",
       "<tr>\n",
       "  <th>Time:</th>                 <td>21:16:44</td>     <th>  Log-Likelihood:    </th> <td> -321.06</td>\n",
       "</tr>\n",
       "<tr>\n",
       "  <th>No. Observations:</th>      <td>   712</td>      <th>  AIC:               </th> <td>   660.1</td>\n",
       "</tr>\n",
       "<tr>\n",
       "  <th>Df Residuals:</th>          <td>   703</td>      <th>  BIC:               </th> <td>   701.2</td>\n",
       "</tr>\n",
       "<tr>\n",
       "  <th>Df Model:</th>              <td>     8</td>      <th>                     </th>     <td> </td>   \n",
       "</tr>\n",
       "<tr>\n",
       "  <th>Covariance Type:</th>      <td>nonrobust</td>    <th>                     </th>     <td> </td>   \n",
       "</tr>\n",
       "</table>\n",
       "<table class=\"simpletable\">\n",
       "<tr>\n",
       "        <td></td>           <th>coef</th>     <th>std err</th>      <th>t</th>      <th>P>|t|</th>  <th>[0.025</th>    <th>0.975]</th>  \n",
       "</tr>\n",
       "<tr>\n",
       "  <th>Intercept</th>     <td>    1.4031</td> <td>    0.082</td> <td>   17.214</td> <td> 0.000</td> <td>    1.243</td> <td>    1.563</td>\n",
       "</tr>\n",
       "<tr>\n",
       "  <th>Sex[T.male]</th>   <td>   -0.4854</td> <td>    0.032</td> <td>  -15.389</td> <td> 0.000</td> <td>   -0.547</td> <td>   -0.423</td>\n",
       "</tr>\n",
       "<tr>\n",
       "  <th>Embarked[T.Q]</th> <td>   -0.0987</td> <td>    0.082</td> <td>   -1.198</td> <td> 0.231</td> <td>   -0.260</td> <td>    0.063</td>\n",
       "</tr>\n",
       "<tr>\n",
       "  <th>Embarked[T.S]</th> <td>   -0.0664</td> <td>    0.040</td> <td>   -1.674</td> <td> 0.095</td> <td>   -0.144</td> <td>    0.011</td>\n",
       "</tr>\n",
       "<tr>\n",
       "  <th>Pclass</th>        <td>   -0.1874</td> <td>    0.023</td> <td>   -8.183</td> <td> 0.000</td> <td>   -0.232</td> <td>   -0.142</td>\n",
       "</tr>\n",
       "<tr>\n",
       "  <th>Age</th>           <td>   -0.0064</td> <td>    0.001</td> <td>   -5.661</td> <td> 0.000</td> <td>   -0.009</td> <td>   -0.004</td>\n",
       "</tr>\n",
       "<tr>\n",
       "  <th>SibSp</th>         <td>   -0.0508</td> <td>    0.017</td> <td>   -2.912</td> <td> 0.004</td> <td>   -0.085</td> <td>   -0.017</td>\n",
       "</tr>\n",
       "<tr>\n",
       "  <th>Parch</th>         <td>   -0.0107</td> <td>    0.019</td> <td>   -0.561</td> <td> 0.575</td> <td>   -0.048</td> <td>    0.027</td>\n",
       "</tr>\n",
       "<tr>\n",
       "  <th>Fare</th>          <td>    0.0002</td> <td>    0.000</td> <td>    0.565</td> <td> 0.572</td> <td>   -0.000</td> <td>    0.001</td>\n",
       "</tr>\n",
       "</table>\n",
       "<table class=\"simpletable\">\n",
       "<tr>\n",
       "  <th>Omnibus:</th>       <td>25.698</td> <th>  Durbin-Watson:     </th> <td>   1.846</td>\n",
       "</tr>\n",
       "<tr>\n",
       "  <th>Prob(Omnibus):</th> <td> 0.000</td> <th>  Jarque-Bera (JB):  </th> <td>  27.819</td>\n",
       "</tr>\n",
       "<tr>\n",
       "  <th>Skew:</th>          <td> 0.484</td> <th>  Prob(JB):          </th> <td>9.10e-07</td>\n",
       "</tr>\n",
       "<tr>\n",
       "  <th>Kurtosis:</th>      <td> 3.019</td> <th>  Cond. No.          </th> <td>    406.</td>\n",
       "</tr>\n",
       "</table><br/><br/>Warnings:<br/>[1] Standard Errors assume that the covariance matrix of the errors is correctly specified."
      ],
      "text/plain": [
       "<class 'statsmodels.iolib.summary.Summary'>\n",
       "\"\"\"\n",
       "                            OLS Regression Results                            \n",
       "==============================================================================\n",
       "Dep. Variable:               Survived   R-squared:                       0.401\n",
       "Model:                            OLS   Adj. R-squared:                  0.394\n",
       "Method:                 Least Squares   F-statistic:                     58.84\n",
       "Date:                Sun, 04 Oct 2020   Prob (F-statistic):           2.73e-73\n",
       "Time:                        21:16:44   Log-Likelihood:                -321.06\n",
       "No. Observations:                 712   AIC:                             660.1\n",
       "Df Residuals:                     703   BIC:                             701.2\n",
       "Df Model:                           8                                         \n",
       "Covariance Type:            nonrobust                                         \n",
       "=================================================================================\n",
       "                    coef    std err          t      P>|t|      [0.025      0.975]\n",
       "---------------------------------------------------------------------------------\n",
       "Intercept         1.4031      0.082     17.214      0.000       1.243       1.563\n",
       "Sex[T.male]      -0.4854      0.032    -15.389      0.000      -0.547      -0.423\n",
       "Embarked[T.Q]    -0.0987      0.082     -1.198      0.231      -0.260       0.063\n",
       "Embarked[T.S]    -0.0664      0.040     -1.674      0.095      -0.144       0.011\n",
       "Pclass           -0.1874      0.023     -8.183      0.000      -0.232      -0.142\n",
       "Age              -0.0064      0.001     -5.661      0.000      -0.009      -0.004\n",
       "SibSp            -0.0508      0.017     -2.912      0.004      -0.085      -0.017\n",
       "Parch            -0.0107      0.019     -0.561      0.575      -0.048       0.027\n",
       "Fare              0.0002      0.000      0.565      0.572      -0.000       0.001\n",
       "==============================================================================\n",
       "Omnibus:                       25.698   Durbin-Watson:                   1.846\n",
       "Prob(Omnibus):                  0.000   Jarque-Bera (JB):               27.819\n",
       "Skew:                           0.484   Prob(JB):                     9.10e-07\n",
       "Kurtosis:                       3.019   Cond. No.                         406.\n",
       "==============================================================================\n",
       "\n",
       "Warnings:\n",
       "[1] Standard Errors assume that the covariance matrix of the errors is correctly specified.\n",
       "\"\"\""
      ]
     },
     "execution_count": 41,
     "metadata": {},
     "output_type": "execute_result"
    }
   ],
   "source": [
    "est = smf.ols('Survived ~ Pclass + Sex + Age + SibSp + Parch + Fare + Embarked', data).fit()\n",
    "est.summary()"
   ]
  },
  {
   "cell_type": "code",
   "execution_count": 42,
   "metadata": {},
   "outputs": [
    {
     "data": {
      "text/html": [
       "<table class=\"simpletable\">\n",
       "<caption>OLS Regression Results</caption>\n",
       "<tr>\n",
       "  <th>Dep. Variable:</th>        <td>Survived</td>     <th>  R-squared:         </th> <td>   0.305</td>\n",
       "</tr>\n",
       "<tr>\n",
       "  <th>Model:</th>                   <td>OLS</td>       <th>  Adj. R-squared:    </th> <td>   0.303</td>\n",
       "</tr>\n",
       "<tr>\n",
       "  <th>Method:</th>             <td>Least Squares</td>  <th>  F-statistic:       </th> <td>   194.7</td>\n",
       "</tr>\n",
       "<tr>\n",
       "  <th>Date:</th>             <td>Sun, 04 Oct 2020</td> <th>  Prob (F-statistic):</th> <td>7.47e-71</td>\n",
       "</tr>\n",
       "<tr>\n",
       "  <th>Time:</th>                 <td>21:16:44</td>     <th>  Log-Likelihood:    </th> <td> -459.94</td>\n",
       "</tr>\n",
       "<tr>\n",
       "  <th>No. Observations:</th>      <td>   891</td>      <th>  AIC:               </th> <td>   925.9</td>\n",
       "</tr>\n",
       "<tr>\n",
       "  <th>Df Residuals:</th>          <td>   888</td>      <th>  BIC:               </th> <td>   940.3</td>\n",
       "</tr>\n",
       "<tr>\n",
       "  <th>Df Model:</th>              <td>     2</td>      <th>                     </th>     <td> </td>   \n",
       "</tr>\n",
       "<tr>\n",
       "  <th>Covariance Type:</th>      <td>nonrobust</td>    <th>                     </th>     <td> </td>   \n",
       "</tr>\n",
       "</table>\n",
       "<table class=\"simpletable\">\n",
       "<tr>\n",
       "       <td></td>          <th>coef</th>     <th>std err</th>      <th>t</th>      <th>P>|t|</th>  <th>[0.025</th>    <th>0.975]</th>  \n",
       "</tr>\n",
       "<tr>\n",
       "  <th>Intercept</th>   <td>    0.7723</td> <td>    0.024</td> <td>   31.536</td> <td> 0.000</td> <td>    0.724</td> <td>    0.820</td>\n",
       "</tr>\n",
       "<tr>\n",
       "  <th>Sex[T.male]</th> <td>   -0.5647</td> <td>    0.029</td> <td>  -19.695</td> <td> 0.000</td> <td>   -0.621</td> <td>   -0.508</td>\n",
       "</tr>\n",
       "<tr>\n",
       "  <th>SibSp</th>       <td>   -0.0436</td> <td>    0.012</td> <td>   -3.512</td> <td> 0.000</td> <td>   -0.068</td> <td>   -0.019</td>\n",
       "</tr>\n",
       "</table>\n",
       "<table class=\"simpletable\">\n",
       "<tr>\n",
       "  <th>Omnibus:</th>       <td>28.607</td> <th>  Durbin-Watson:     </th> <td>   1.964</td>\n",
       "</tr>\n",
       "<tr>\n",
       "  <th>Prob(Omnibus):</th> <td> 0.000</td> <th>  Jarque-Bera (JB):  </th> <td>  30.849</td>\n",
       "</tr>\n",
       "<tr>\n",
       "  <th>Skew:</th>          <td> 0.456</td> <th>  Prob(JB):          </th> <td>2.00e-07</td>\n",
       "</tr>\n",
       "<tr>\n",
       "  <th>Kurtosis:</th>      <td> 2.984</td> <th>  Cond. No.          </th> <td>    3.80</td>\n",
       "</tr>\n",
       "</table><br/><br/>Warnings:<br/>[1] Standard Errors assume that the covariance matrix of the errors is correctly specified."
      ],
      "text/plain": [
       "<class 'statsmodels.iolib.summary.Summary'>\n",
       "\"\"\"\n",
       "                            OLS Regression Results                            \n",
       "==============================================================================\n",
       "Dep. Variable:               Survived   R-squared:                       0.305\n",
       "Model:                            OLS   Adj. R-squared:                  0.303\n",
       "Method:                 Least Squares   F-statistic:                     194.7\n",
       "Date:                Sun, 04 Oct 2020   Prob (F-statistic):           7.47e-71\n",
       "Time:                        21:16:44   Log-Likelihood:                -459.94\n",
       "No. Observations:                 891   AIC:                             925.9\n",
       "Df Residuals:                     888   BIC:                             940.3\n",
       "Df Model:                           2                                         \n",
       "Covariance Type:            nonrobust                                         \n",
       "===============================================================================\n",
       "                  coef    std err          t      P>|t|      [0.025      0.975]\n",
       "-------------------------------------------------------------------------------\n",
       "Intercept       0.7723      0.024     31.536      0.000       0.724       0.820\n",
       "Sex[T.male]    -0.5647      0.029    -19.695      0.000      -0.621      -0.508\n",
       "SibSp          -0.0436      0.012     -3.512      0.000      -0.068      -0.019\n",
       "==============================================================================\n",
       "Omnibus:                       28.607   Durbin-Watson:                   1.964\n",
       "Prob(Omnibus):                  0.000   Jarque-Bera (JB):               30.849\n",
       "Skew:                           0.456   Prob(JB):                     2.00e-07\n",
       "Kurtosis:                       2.984   Cond. No.                         3.80\n",
       "==============================================================================\n",
       "\n",
       "Warnings:\n",
       "[1] Standard Errors assume that the covariance matrix of the errors is correctly specified.\n",
       "\"\"\""
      ]
     },
     "execution_count": 42,
     "metadata": {},
     "output_type": "execute_result"
    }
   ],
   "source": [
    "est = smf.ols('Survived ~  Sex  + SibSp ', data).fit()\n",
    "est.summary()"
   ]
  },
  {
   "cell_type": "markdown",
   "metadata": {},
   "source": [
    "### Perceptron"
   ]
  },
  {
   "cell_type": "code",
   "execution_count": 43,
   "metadata": {},
   "outputs": [],
   "source": [
    "from sklearn.model_selection import train_test_split\n",
    "# import the Perceptron library from sklearn and train the perceptron\n",
    "from sklearn.linear_model import Perceptron\n",
    "# import the accuracy_score from sklearn\n",
    "from sklearn.metrics import accuracy_score"
   ]
  },
  {
   "cell_type": "markdown",
   "metadata": {},
   "source": [
    "##### Let's Convert the Cat. Data into Numerical first and drop the NA value.\n",
    "##### Also, the columns Embarked need to reshape long to wide"
   ]
  },
  {
   "cell_type": "code",
   "execution_count": 44,
   "metadata": {},
   "outputs": [
    {
     "name": "stdout",
     "output_type": "stream",
     "text": [
      "             Survived  Pclass  Sex   Age  SibSp  Parch     Fare  0  C  Q  S\n",
      "PassengerId                                                                \n",
      "1                   0       3    1  22.0      1      0   7.2500  0  0  0  1\n",
      "2                   1       1    0  38.0      1      0  71.2833  0  1  0  0\n",
      "3                   1       3    0  26.0      0      0   7.9250  0  0  0  1\n",
      "4                   1       1    0  35.0      1      0  53.1000  0  0  0  1\n",
      "5                   0       3    1  35.0      0      0   8.0500  0  0  0  1\n",
      "...               ...     ...  ...   ...    ...    ...      ... .. .. .. ..\n",
      "887                 0       2    1  27.0      0      0  13.0000  0  0  0  1\n",
      "888                 1       1    0  19.0      0      0  30.0000  0  0  0  1\n",
      "889                 0       3    0   0.0      1      2  23.4500  0  0  0  1\n",
      "890                 1       1    1  26.0      0      0  30.0000  0  1  0  0\n",
      "891                 0       3    1  32.0      0      0   7.7500  0  0  1  0\n",
      "\n",
      "[891 rows x 11 columns]\n",
      "             Pclass  Sex   Age  SibSp  Parch      Fare  C  Q  S\n",
      "PassengerId                                                    \n",
      "892               3    1  34.5      0      0    7.8292  0  1  0\n",
      "893               3    0  47.0      1      0    7.0000  0  0  1\n",
      "894               2    1  62.0      0      0    9.6875  0  1  0\n",
      "895               3    1  27.0      0      0    8.6625  0  0  1\n",
      "896               3    0  22.0      1      1   12.2875  0  0  1\n",
      "...             ...  ...   ...    ...    ...       ... .. .. ..\n",
      "1305              3    1   0.0      0      0    8.0500  0  0  1\n",
      "1306              1    0  39.0      0      0  108.9000  1  0  0\n",
      "1307              3    1  38.5      0      0    7.2500  0  0  1\n",
      "1308              3    1   0.0      0      0    8.0500  0  0  1\n",
      "1309              3    1   0.0      1      1   22.3583  1  0  0\n",
      "\n",
      "[418 rows x 9 columns]\n"
     ]
    }
   ],
   "source": [
    "p_data = data\n",
    "\n",
    "p_data = p_data.fillna(0)\n",
    "\n",
    "p_data.set_index('PassengerId' , inplace = True)\n",
    "\n",
    "temp = p_data.pivot(columns='Embarked', values='Embarked')\n",
    "\n",
    "p_data = pd.concat([p_data, temp], axis=1)\n",
    "\n",
    "p_data['C'] = p_data['C'].astype('category').cat.codes\n",
    "p_data['Q'] = p_data['Q'].astype('category').cat.codes\n",
    "p_data['S'] = p_data['S'].astype('category').cat.codes\n",
    "\n",
    "p_data['C'] = p_data['C'].astype('category').cat.codes\n",
    "p_data['Q'] = p_data['Q'].astype('category').cat.codes\n",
    "p_data['S'] = p_data['S'].astype('category').cat.codes\n",
    "\n",
    "p_data['Sex'] = p_data['Sex'].astype('category').cat.codes\n",
    "p_data.drop('Embarked', axis = 1, inplace = True)\n",
    "\n",
    "p_data = p_data.fillna(0)\n",
    "\n",
    "print(p_data)\n",
    "\n",
    "# Do the same thing in test data\n",
    "p_result = result\n",
    "\n",
    "p_result = p_result.fillna(0)\n",
    "p_result.set_index('PassengerId' , inplace = True)\n",
    "\n",
    "temp = p_result.pivot( columns='Embarked', values='Embarked')\n",
    "\n",
    "p_result = pd.concat([p_result, temp], axis=1 )\n",
    "\n",
    "\n",
    "p_result['C'] = p_result['C'].astype('category').cat.codes\n",
    "p_result['Q'] = p_result['Q'].astype('category').cat.codes\n",
    "p_result['S'] = p_result['S'].astype('category').cat.codes\n",
    "\n",
    "p_result['C'] = p_result['C'].astype('category').cat.codes\n",
    "p_result['Q'] = p_result['Q'].astype('category').cat.codes\n",
    "p_result['S'] = p_result['S'].astype('category').cat.codes\n",
    "\n",
    "p_result['Sex'] = p_result['Sex'].astype('category').cat.codes\n",
    "p_result.drop('Embarked', axis = 1, inplace = True)\n",
    "\n",
    "p_result = p_result.fillna(0)\n",
    "print(p_result)\n"
   ]
  },
  {
   "cell_type": "markdown",
   "metadata": {},
   "source": [
    "##### Let's fit all the columns into single perceptron"
   ]
  },
  {
   "cell_type": "code",
   "execution_count": 45,
   "metadata": {},
   "outputs": [
    {
     "name": "stdout",
     "output_type": "stream",
     "text": [
      "Train Accuracy:  0.7078651685393258\n",
      "Valid Accuracy:  0.6815642458100558\n"
     ]
    },
    {
     "name": "stderr",
     "output_type": "stream",
     "text": [
      "C:\\Users\\kin09\\Anaconda3\\lib\\site-packages\\sklearn\\utils\\validation.py:760: DataConversionWarning: A column-vector y was passed when a 1d array was expected. Please change the shape of y to (n_samples, ), for example using ravel().\n",
      "  y = column_or_1d(y, warn=True)\n"
     ]
    }
   ],
   "source": [
    "X_train, X_test, y_train, y_test = train_test_split(p_data.loc[:, p_data.columns != \"Survived\" ], p_data[[\"Survived\"]], test_size=0.2, random_state=3)\n",
    "\n",
    "clf = Perceptron(fit_intercept=True, eta0=0.3) # eta0 is the learning rate\n",
    "clf.fit(X_train, y_train)\n",
    "\n",
    "\n",
    "y_pred_train = clf.predict(X_train)\n",
    "print(\"Train Accuracy: \", accuracy_score(y_train, y_pred_train))\n",
    "\n",
    "y_pred_test = clf.predict(X_test)\n",
    "print(\"Valid Accuracy: \", accuracy_score(y_test, y_pred_test))"
   ]
  },
  {
   "cell_type": "markdown",
   "metadata": {},
   "source": [
    "The accuracy is around 68.15%"
   ]
  },
  {
   "cell_type": "markdown",
   "metadata": {},
   "source": [
    "##### Let's select some variable and fit some them into single perceptron"
   ]
  },
  {
   "cell_type": "code",
   "execution_count": 46,
   "metadata": {},
   "outputs": [
    {
     "name": "stdout",
     "output_type": "stream",
     "text": [
      "Train Accuracy:  0.7584269662921348\n",
      "Valid Accuracy:  0.7206703910614525\n"
     ]
    },
    {
     "name": "stderr",
     "output_type": "stream",
     "text": [
      "C:\\Users\\kin09\\Anaconda3\\lib\\site-packages\\sklearn\\utils\\validation.py:760: DataConversionWarning: A column-vector y was passed when a 1d array was expected. Please change the shape of y to (n_samples, ), for example using ravel().\n",
      "  y = column_or_1d(y, warn=True)\n"
     ]
    }
   ],
   "source": [
    "X_train, X_test, y_train, y_test = train_test_split(p_data[['Pclass', 'Sex'  ]], p_data[[\"Survived\"]], test_size=0.2, random_state=3)\n",
    "\n",
    "z_train = p_result[['Pclass', 'Sex' ]]\n",
    "\n",
    "# Define and train the perceptron\n",
    "clf = Perceptron(fit_intercept=True, eta0=0.3) # eta0 is the learning rate\n",
    "clf.fit(X_train, y_train)\n",
    "\n",
    "y_pred_train = clf.predict(X_train)\n",
    "print(\"Train Accuracy: \", accuracy_score(y_train, y_pred_train))\n",
    "\n",
    "y_pred_test = clf.predict(X_test)\n",
    "print(\"Valid Accuracy: \", accuracy_score(y_test, y_pred_test))"
   ]
  },
  {
   "cell_type": "code",
   "execution_count": 47,
   "metadata": {},
   "outputs": [
    {
     "name": "stderr",
     "output_type": "stream",
     "text": [
      "C:\\Users\\kin09\\Anaconda3\\lib\\site-packages\\sklearn\\utils\\validation.py:760: DataConversionWarning: A column-vector y was passed when a 1d array was expected. Please change the shape of y to (n_samples, ), for example using ravel().\n",
      "  y = column_or_1d(y, warn=True)\n"
     ]
    },
    {
     "name": "stdout",
     "output_type": "stream",
     "text": [
      "Train Accuracy:  0.7626404494382022\n",
      "Valid Accuracy:  0.7541899441340782\n"
     ]
    }
   ],
   "source": [
    "X_train, X_test, y_train, y_test = train_test_split(p_data[['Pclass', 'Sex' , 'C' , 'Q' , 'S' ]], p_data[[\"Survived\"]], test_size=0.2, random_state=3)\n",
    "\n",
    "z_train = p_result[['Pclass', 'Sex' ]]\n",
    "\n",
    "# Define and train the perceptron\n",
    "clf = Perceptron(fit_intercept=True, eta0=0.3) # eta0 is the learning rate\n",
    "clf.fit(X_train, y_train)\n",
    "\n",
    "y_pred_train = clf.predict(X_train)\n",
    "print(\"Train Accuracy: \", accuracy_score(y_train, y_pred_train))\n",
    "\n",
    "y_pred_test = clf.predict(X_test)\n",
    "print(\"Valid Accuracy: \", accuracy_score(y_test, y_pred_test))"
   ]
  },
  {
   "cell_type": "code",
   "execution_count": 48,
   "metadata": {},
   "outputs": [
    {
     "name": "stdout",
     "output_type": "stream",
     "text": [
      "Train Accuracy:  0.7837078651685393\n",
      "Valid Accuracy:  0.7541899441340782\n"
     ]
    },
    {
     "name": "stderr",
     "output_type": "stream",
     "text": [
      "C:\\Users\\kin09\\Anaconda3\\lib\\site-packages\\sklearn\\utils\\validation.py:760: DataConversionWarning: A column-vector y was passed when a 1d array was expected. Please change the shape of y to (n_samples, ), for example using ravel().\n",
      "  y = column_or_1d(y, warn=True)\n"
     ]
    }
   ],
   "source": [
    "X_train, X_test, y_train, y_test = train_test_split(p_data[['Pclass', 'Sex' , 'C'  ]], p_data[[\"Survived\"]], test_size=0.2, random_state=3)\n",
    "\n",
    "z_train = p_result[['Pclass', 'Sex' ]]\n",
    "\n",
    "# Define and train the perceptron\n",
    "clf = Perceptron(fit_intercept=True, eta0=0.3) # eta0 is the learning rate\n",
    "clf.fit(X_train, y_train)\n",
    "\n",
    "y_pred_train = clf.predict(X_train)\n",
    "print(\"Train Accuracy: \", accuracy_score(y_train, y_pred_train))\n",
    "\n",
    "y_pred_test = clf.predict(X_test)\n",
    "print(\"Valid Accuracy: \", accuracy_score(y_test, y_pred_test))"
   ]
  },
  {
   "cell_type": "code",
   "execution_count": 49,
   "metadata": {},
   "outputs": [
    {
     "name": "stdout",
     "output_type": "stream",
     "text": [
      "Train Accuracy:  0.723314606741573\n",
      "Valid Accuracy:  0.6815642458100558\n"
     ]
    },
    {
     "name": "stderr",
     "output_type": "stream",
     "text": [
      "C:\\Users\\kin09\\Anaconda3\\lib\\site-packages\\sklearn\\utils\\validation.py:760: DataConversionWarning: A column-vector y was passed when a 1d array was expected. Please change the shape of y to (n_samples, ), for example using ravel().\n",
      "  y = column_or_1d(y, warn=True)\n"
     ]
    }
   ],
   "source": [
    "X_train, X_test, y_train, y_test = train_test_split(p_data[['Pclass', 'Sex' , 'C' , 'S' ]], p_data[[\"Survived\"]], test_size=0.2, random_state=3)\n",
    "\n",
    "z_train = p_result[['Pclass', 'Sex' ]]\n",
    "\n",
    "# Define and train the perceptron\n",
    "clf = Perceptron(fit_intercept=True, eta0=0.3) # eta0 is the learning rate\n",
    "clf.fit(X_train, y_train)\n",
    "\n",
    "y_pred_train = clf.predict(X_train)\n",
    "print(\"Train Accuracy: \", accuracy_score(y_train, y_pred_train))\n",
    "\n",
    "y_pred_test = clf.predict(X_test)\n",
    "print(\"Valid Accuracy: \", accuracy_score(y_test, y_pred_test))"
   ]
  },
  {
   "cell_type": "code",
   "execution_count": 50,
   "metadata": {},
   "outputs": [
    {
     "name": "stderr",
     "output_type": "stream",
     "text": [
      "C:\\Users\\kin09\\Anaconda3\\lib\\site-packages\\sklearn\\utils\\validation.py:760: DataConversionWarning: A column-vector y was passed when a 1d array was expected. Please change the shape of y to (n_samples, ), for example using ravel().\n",
      "  y = column_or_1d(y, warn=True)\n"
     ]
    },
    {
     "name": "stdout",
     "output_type": "stream",
     "text": [
      "Train Accuracy:  0.7837078651685393\n",
      "Valid Accuracy:  0.7541899441340782\n"
     ]
    }
   ],
   "source": [
    "X_train, X_test, y_train, y_test = train_test_split(p_data[['Pclass', 'Parch', 'Sex' , 'C' ,  'Q' , 'S'  ]], p_data[[\"Survived\"]], test_size=0.2, random_state=3)\n",
    "X_train.shape, X_test.shape, y_train.shape, y_test.shape\n",
    "\n",
    "# Define and train the perceptron\n",
    "clf = Perceptron(fit_intercept=True, eta0=0.3) # eta0 is the learning rate\n",
    "clf.fit(X_train, y_train)\n",
    "\n",
    "y_pred_train = clf.predict(X_train)\n",
    "print(\"Train Accuracy: \", accuracy_score(y_train, y_pred_train))\n",
    "\n",
    "y_pred_test = clf.predict(X_test)\n",
    "print(\"Valid Accuracy: \", accuracy_score(y_test, y_pred_test))"
   ]
  },
  {
   "cell_type": "code",
   "execution_count": 58,
   "metadata": {},
   "outputs": [
    {
     "name": "stdout",
     "output_type": "stream",
     "text": [
      "Train Accuracy:  0.7865168539325843\n",
      "Valid Accuracy:  0.7877094972067039\n"
     ]
    },
    {
     "name": "stderr",
     "output_type": "stream",
     "text": [
      "C:\\Users\\kin09\\Anaconda3\\lib\\site-packages\\sklearn\\utils\\validation.py:760: DataConversionWarning: A column-vector y was passed when a 1d array was expected. Please change the shape of y to (n_samples, ), for example using ravel().\n",
      "  y = column_or_1d(y, warn=True)\n"
     ]
    }
   ],
   "source": [
    "X_train, X_test, y_train, y_test = train_test_split(p_data[['Age',  'Sex' ]], p_data[[\"Survived\"]], test_size=0.2, random_state=3)\n",
    "X_train.shape, X_test.shape, y_train.shape, y_test.shape\n",
    "\n",
    "# Define and train the perceptron\n",
    "clf = Perceptron(fit_intercept=True, eta0=0.3) # eta0 is the learning rate\n",
    "clf.fit(X_train, y_train)\n",
    "\n",
    "y_pred_train = clf.predict(X_train)\n",
    "print(\"Train Accuracy: \", accuracy_score(y_train, y_pred_train))\n",
    "\n",
    "y_pred_test = clf.predict(X_test)\n",
    "print(\"Valid Accuracy: \", accuracy_score(y_test, y_pred_test))"
   ]
  },
  {
   "cell_type": "code",
   "execution_count": 57,
   "metadata": {},
   "outputs": [
    {
     "name": "stdout",
     "output_type": "stream",
     "text": [
      "Train Accuracy:  0.6390449438202247\n",
      "Valid Accuracy:  0.6312849162011173\n"
     ]
    },
    {
     "name": "stderr",
     "output_type": "stream",
     "text": [
      "C:\\Users\\kin09\\Anaconda3\\lib\\site-packages\\sklearn\\utils\\validation.py:760: DataConversionWarning: A column-vector y was passed when a 1d array was expected. Please change the shape of y to (n_samples, ), for example using ravel().\n",
      "  y = column_or_1d(y, warn=True)\n"
     ]
    }
   ],
   "source": [
    "X_train, X_test, y_train, y_test = train_test_split(p_data[['Age',  'Sex' , 'Fare' , 'Parch' ]], p_data[[\"Survived\"]], test_size=0.2, random_state=3)\n",
    "X_train.shape, X_test.shape, y_train.shape, y_test.shape\n",
    "\n",
    "# Define and train the perceptron\n",
    "clf = Perceptron(fit_intercept=True, eta0=0.3) # eta0 is the learning rate\n",
    "clf.fit(X_train, y_train)\n",
    "\n",
    "y_pred_train = clf.predict(X_train)\n",
    "print(\"Train Accuracy: \", accuracy_score(y_train, y_pred_train))\n",
    "\n",
    "y_pred_test = clf.predict(X_test)\n",
    "print(\"Valid Accuracy: \", accuracy_score(y_test, y_pred_test))"
   ]
  },
  {
   "cell_type": "code",
   "execution_count": null,
   "metadata": {},
   "outputs": [],
   "source": []
  }
 ],
 "metadata": {
  "kernelspec": {
   "display_name": "Python 3",
   "language": "python",
   "name": "python3"
  },
  "language_info": {
   "codemirror_mode": {
    "name": "ipython",
    "version": 3
   },
   "file_extension": ".py",
   "mimetype": "text/x-python",
   "name": "python",
   "nbconvert_exporter": "python",
   "pygments_lexer": "ipython3",
   "version": "3.7.4"
  }
 },
 "nbformat": 4,
 "nbformat_minor": 2
}
