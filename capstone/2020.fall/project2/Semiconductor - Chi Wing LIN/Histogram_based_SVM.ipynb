{
 "cells": [
  {
   "cell_type": "code",
   "execution_count": 1,
   "metadata": {},
   "outputs": [],
   "source": [
    "import os\n",
    "import numpy as np\n",
    "import matplotlib.pyplot as plt\n",
    "import pandas as pd\n",
    "import cv2\n",
    "from sklearn.svm import SVC\n",
    "from sklearn.model_selection import train_test_split\n",
    "from sklearn import metrics\n",
    "import statsmodels.api as sm\n",
    "import warnings\n",
    "import seaborn as sns\n",
    "warnings.filterwarnings('ignore')"
   ]
  },
  {
   "cell_type": "markdown",
   "metadata": {},
   "source": [
    "# Read images from folder"
   ]
  },
  {
   "cell_type": "code",
   "execution_count": 39,
   "metadata": {},
   "outputs": [
    {
     "name": "stdout",
     "output_type": "stream",
     "text": [
      "/Users/wilson/Documents/HKUST/MATH4995/Final_Project\n",
      "7039\n",
      "27420\n",
      "14078\n"
     ]
    }
   ],
   "source": [
    "print(os.getcwd())\n",
    "images = []\n",
    "folders = [os.getcwd()+\"/semi-conductor-image-classification-second-stage/train/train_contest/defect\"\\\n",
    "           , os.getcwd()+\"/semi-conductor-image-classification-second-stage/train/train_contest/good_all\"]\n",
    "for folder in folders:\n",
    "    print(len(os.listdir(folder)))\n",
    "    for filename in os.listdir(folder):\n",
    "            img = cv2.imread(os.path.join(folder,filename),0)\n",
    "            #img = cv2.resize(img, (128, 128),interpolation=cv2.INTER_NEAREST)\n",
    "            if img is not None:\n",
    "                images.append(img)\n",
    "images = images[:14078]\n",
    "print(len(images))\n",
    "                \n",
    "                \n",
    "                \n",
    "                \n",
    "                \n",
    "                "
   ]
  },
  {
   "cell_type": "markdown",
   "metadata": {},
   "source": [
    "# Transform the image data to RGB histogram data"
   ]
  },
  {
   "cell_type": "code",
   "execution_count": 40,
   "metadata": {},
   "outputs": [
    {
     "name": "stdout",
     "output_type": "stream",
     "text": [
      "[[0.000e+00]\n",
      " [0.000e+00]\n",
      " [0.000e+00]\n",
      " [0.000e+00]\n",
      " [0.000e+00]\n",
      " [0.000e+00]\n",
      " [0.000e+00]\n",
      " [0.000e+00]\n",
      " [0.000e+00]\n",
      " [0.000e+00]\n",
      " [0.000e+00]\n",
      " [0.000e+00]\n",
      " [0.000e+00]\n",
      " [0.000e+00]\n",
      " [0.000e+00]\n",
      " [0.000e+00]\n",
      " [0.000e+00]\n",
      " [0.000e+00]\n",
      " [0.000e+00]\n",
      " [0.000e+00]\n",
      " [0.000e+00]\n",
      " [0.000e+00]\n",
      " [0.000e+00]\n",
      " [0.000e+00]\n",
      " [0.000e+00]\n",
      " [0.000e+00]\n",
      " [0.000e+00]\n",
      " [0.000e+00]\n",
      " [3.000e+00]\n",
      " [1.600e+01]\n",
      " [5.200e+01]\n",
      " [1.320e+02]\n",
      " [1.320e+02]\n",
      " [1.480e+02]\n",
      " [1.470e+02]\n",
      " [1.270e+02]\n",
      " [1.030e+02]\n",
      " [1.050e+02]\n",
      " [6.200e+01]\n",
      " [8.800e+01]\n",
      " [1.190e+02]\n",
      " [2.090e+02]\n",
      " [3.570e+02]\n",
      " [6.560e+02]\n",
      " [9.880e+02]\n",
      " [1.225e+03]\n",
      " [1.425e+03]\n",
      " [1.521e+03]\n",
      " [1.521e+03]\n",
      " [1.493e+03]\n",
      " [1.578e+03]\n",
      " [1.783e+03]\n",
      " [2.008e+03]\n",
      " [2.376e+03]\n",
      " [2.682e+03]\n",
      " [2.975e+03]\n",
      " [3.107e+03]\n",
      " [3.279e+03]\n",
      " [3.156e+03]\n",
      " [2.962e+03]\n",
      " [2.910e+03]\n",
      " [2.663e+03]\n",
      " [2.509e+03]\n",
      " [2.129e+03]\n",
      " [1.823e+03]\n",
      " [1.497e+03]\n",
      " [1.219e+03]\n",
      " [9.790e+02]\n",
      " [8.030e+02]\n",
      " [6.630e+02]\n",
      " [6.300e+02]\n",
      " [5.170e+02]\n",
      " [4.790e+02]\n",
      " [4.860e+02]\n",
      " [4.350e+02]\n",
      " [3.940e+02]\n",
      " [4.080e+02]\n",
      " [3.580e+02]\n",
      " [3.750e+02]\n",
      " [3.560e+02]\n",
      " [3.570e+02]\n",
      " [3.130e+02]\n",
      " [2.970e+02]\n",
      " [2.890e+02]\n",
      " [2.570e+02]\n",
      " [2.320e+02]\n",
      " [2.520e+02]\n",
      " [2.600e+02]\n",
      " [2.400e+02]\n",
      " [2.300e+02]\n",
      " [2.500e+02]\n",
      " [2.400e+02]\n",
      " [2.670e+02]\n",
      " [2.420e+02]\n",
      " [2.310e+02]\n",
      " [2.240e+02]\n",
      " [2.200e+02]\n",
      " [2.260e+02]\n",
      " [1.920e+02]\n",
      " [2.130e+02]\n",
      " [1.510e+02]\n",
      " [1.510e+02]\n",
      " [1.770e+02]\n",
      " [1.580e+02]\n",
      " [1.790e+02]\n",
      " [1.780e+02]\n",
      " [1.760e+02]\n",
      " [1.670e+02]\n",
      " [1.760e+02]\n",
      " [1.710e+02]\n",
      " [1.950e+02]\n",
      " [1.910e+02]\n",
      " [1.650e+02]\n",
      " [1.770e+02]\n",
      " [1.710e+02]\n",
      " [1.700e+02]\n",
      " [1.510e+02]\n",
      " [1.200e+02]\n",
      " [1.250e+02]\n",
      " [1.100e+02]\n",
      " [1.020e+02]\n",
      " [1.000e+02]\n",
      " [1.000e+02]\n",
      " [7.600e+01]\n",
      " [8.200e+01]\n",
      " [1.010e+02]\n",
      " [9.900e+01]\n",
      " [6.700e+01]\n",
      " [7.400e+01]\n",
      " [5.700e+01]\n",
      " [7.900e+01]\n",
      " [7.100e+01]\n",
      " [7.300e+01]\n",
      " [5.900e+01]\n",
      " [7.100e+01]\n",
      " [6.400e+01]\n",
      " [5.800e+01]\n",
      " [5.600e+01]\n",
      " [6.100e+01]\n",
      " [6.800e+01]\n",
      " [5.900e+01]\n",
      " [7.600e+01]\n",
      " [5.000e+01]\n",
      " [6.000e+01]\n",
      " [5.700e+01]\n",
      " [6.700e+01]\n",
      " [6.100e+01]\n",
      " [6.400e+01]\n",
      " [5.900e+01]\n",
      " [5.800e+01]\n",
      " [6.300e+01]\n",
      " [6.900e+01]\n",
      " [6.500e+01]\n",
      " [6.200e+01]\n",
      " [5.700e+01]\n",
      " [5.700e+01]\n",
      " [5.100e+01]\n",
      " [6.000e+01]\n",
      " [6.400e+01]\n",
      " [5.600e+01]\n",
      " [6.400e+01]\n",
      " [5.800e+01]\n",
      " [5.400e+01]\n",
      " [6.400e+01]\n",
      " [6.000e+01]\n",
      " [6.200e+01]\n",
      " [5.700e+01]\n",
      " [6.800e+01]\n",
      " [7.200e+01]\n",
      " [6.600e+01]\n",
      " [7.500e+01]\n",
      " [6.000e+01]\n",
      " [6.300e+01]\n",
      " [7.300e+01]\n",
      " [7.100e+01]\n",
      " [5.700e+01]\n",
      " [6.200e+01]\n",
      " [6.300e+01]\n",
      " [5.300e+01]\n",
      " [5.500e+01]\n",
      " [6.900e+01]\n",
      " [5.200e+01]\n",
      " [6.200e+01]\n",
      " [5.700e+01]\n",
      " [5.700e+01]\n",
      " [4.500e+01]\n",
      " [5.200e+01]\n",
      " [4.800e+01]\n",
      " [4.500e+01]\n",
      " [5.900e+01]\n",
      " [5.600e+01]\n",
      " [3.500e+01]\n",
      " [5.600e+01]\n",
      " [4.700e+01]\n",
      " [4.400e+01]\n",
      " [5.100e+01]\n",
      " [3.900e+01]\n",
      " [4.800e+01]\n",
      " [4.100e+01]\n",
      " [5.300e+01]\n",
      " [4.000e+01]\n",
      " [5.000e+01]\n",
      " [4.300e+01]\n",
      " [4.900e+01]\n",
      " [4.200e+01]\n",
      " [4.600e+01]\n",
      " [2.700e+01]\n",
      " [3.400e+01]\n",
      " [3.300e+01]\n",
      " [3.000e+01]\n",
      " [2.000e+01]\n",
      " [3.600e+01]\n",
      " [2.800e+01]\n",
      " [2.300e+01]\n",
      " [2.700e+01]\n",
      " [3.300e+01]\n",
      " [2.200e+01]\n",
      " [3.100e+01]\n",
      " [3.000e+01]\n",
      " [2.500e+01]\n",
      " [3.000e+01]\n",
      " [3.800e+01]\n",
      " [3.200e+01]\n",
      " [3.700e+01]\n",
      " [3.400e+01]\n",
      " [3.600e+01]\n",
      " [2.600e+01]\n",
      " [4.100e+01]\n",
      " [2.600e+01]\n",
      " [3.400e+01]\n",
      " [2.000e+01]\n",
      " [2.600e+01]\n",
      " [1.800e+01]\n",
      " [2.700e+01]\n",
      " [2.500e+01]\n",
      " [2.300e+01]\n",
      " [1.700e+01]\n",
      " [2.600e+01]\n",
      " [1.300e+01]\n",
      " [2.600e+01]\n",
      " [1.300e+01]\n",
      " [1.800e+01]\n",
      " [2.900e+01]\n",
      " [1.300e+01]\n",
      " [2.000e+01]\n",
      " [3.100e+01]\n",
      " [2.200e+01]\n",
      " [2.000e+01]\n",
      " [2.200e+01]\n",
      " [2.200e+01]\n",
      " [1.200e+01]\n",
      " [1.700e+01]\n",
      " [1.400e+01]\n",
      " [2.100e+01]\n",
      " [1.800e+01]\n",
      " [4.440e+02]]\n"
     ]
    }
   ],
   "source": [
    "data = []\n",
    "for image in images:\n",
    "     data.append(cv2.calcHist([image],[0],None,[256],[0,256]))\n",
    "        \n",
    "print(data[0])\n"
   ]
  },
  {
   "cell_type": "markdown",
   "metadata": {},
   "source": [
    "# Visualize the histograms of defect and good ones"
   ]
  },
  {
   "cell_type": "code",
   "execution_count": 41,
   "metadata": {},
   "outputs": [
    {
     "data": {
      "text/plain": [
       "(0.0, 256.0)"
      ]
     },
     "execution_count": 41,
     "metadata": {},
     "output_type": "execute_result"
    },
    {
     "data": {
      "image/png": "[encoded data removed]",
      "text/plain": [
       "<Figure size 432x288 with 2 Axes>"
      ]
     },
     "metadata": {
      "needs_background": "light"
     },
     "output_type": "display_data"
    }
   ],
   "source": [
    "plt.subplot(221), plt.plot(data[0]), plt.plot(data[1]), plt.plot(data[2]), plt.plot(data[3]), plt.plot(data[4])\n",
    "plt.subplot(222), plt.plot(data[7050]), plt.plot(data[7051]), plt.plot(data[7052]), plt.plot(data[7053]), plt.plot(data[7054])\n",
    "plt.xlim([0,256])\n",
    "\n",
    "\n"
   ]
  },
  {
   "cell_type": "markdown",
   "metadata": {},
   "source": [
    "# Split the train set and test set"
   ]
  },
  {
   "cell_type": "code",
   "execution_count": 42,
   "metadata": {},
   "outputs": [
    {
     "name": "stdout",
     "output_type": "stream",
     "text": [
      "(14078, 256)\n"
     ]
    }
   ],
   "source": [
    "d = {}\n",
    "for i in range(data[0].shape[0]):\n",
    "    d[str(i)] = [j[i] for j in data]\n",
    "X = pd.DataFrame(data=d)\n",
    "X = X.to_numpy()\n",
    "print(X.shape)\n",
    "Y = np.concatenate((np.ones((7039,1)), np.zeros((7039,1))))\n",
    "X_train, X_test, Y_train, Y_test = train_test_split(X, Y, test_size = 0.20,random_state=1)\n",
    "\n",
    "\n",
    "\n"
   ]
  },
  {
   "cell_type": "markdown",
   "metadata": {},
   "source": [
    "# Train the model"
   ]
  },
  {
   "cell_type": "code",
   "execution_count": 43,
   "metadata": {},
   "outputs": [
    {
     "name": "stdout",
     "output_type": "stream",
     "text": [
      "(14078, 1)\n"
     ]
    }
   ],
   "source": [
    "print(Y.shape)\n",
    "svclassifier = SVC(kernel='rbf',probability=True)\n",
    "svclassifier.fit(X_train, Y_train)\n",
    "Y_pred = svclassifier.predict(X_test)\n",
    "\n",
    "\n",
    "\n",
    "\n"
   ]
  },
  {
   "cell_type": "markdown",
   "metadata": {},
   "source": [
    "# Metrics"
   ]
  },
  {
   "cell_type": "code",
   "execution_count": 44,
   "metadata": {},
   "outputs": [
    {
     "name": "stdout",
     "output_type": "stream",
     "text": [
      "\tAccuracy: 0.7027698863636364\n",
      "\tPrecision: 0.7255851493139629\n",
      "\tRecall: 0.6439828080229226\n"
     ]
    }
   ],
   "source": [
    "print(\"\\tAccuracy:\",metrics.accuracy_score(Y_test, Y_pred))\n",
    "print(\"\\tPrecision:\",metrics.precision_score(Y_test, Y_pred))\n",
    "print(\"\\tRecall:\",metrics.recall_score(Y_test, Y_pred))"
   ]
  },
  {
   "cell_type": "markdown",
   "metadata": {},
   "source": [
    "# Confusion Matrix"
   ]
  },
  {
   "cell_type": "code",
   "execution_count": 45,
   "metadata": {},
   "outputs": [
    {
     "data": {
      "text/plain": [
       "Text(0.5, 257.44, 'Predicted label')"
      ]
     },
     "execution_count": 45,
     "metadata": {},
     "output_type": "execute_result"
    },
    {
     "data": {
      "image/png": "[encoded data removed]",
      "text/plain": [
       "<Figure size 432x288 with 2 Axes>"
      ]
     },
     "metadata": {
      "needs_background": "light"
     },
     "output_type": "display_data"
    }
   ],
   "source": [
    "cnf_matrix = metrics.confusion_matrix(Y_test, Y_pred)\n",
    "class_names=[\"0\",\"1\"] # name  of classes\n",
    "fig, ax = plt.subplots()\n",
    "tick_marks = np.arange(len(class_names))\n",
    "plt.xticks(tick_marks, class_names)\n",
    "plt.yticks(tick_marks, class_names)\n",
    "# create heatmap\n",
    "sns.heatmap(pd.DataFrame(cnf_matrix), annot=True, cmap=\"YlGnBu\" ,fmt='g')\n",
    "ax.xaxis.set_label_position(\"top\")\n",
    "plt.tight_layout()\n",
    "plt.title('Confusion matrix', y=1.1)\n",
    "plt.ylabel('Actual label')\n",
    "plt.xlabel('Predicted label')"
   ]
  },
  {
   "cell_type": "markdown",
   "metadata": {},
   "source": [
    "# ROC"
   ]
  },
  {
   "cell_type": "code",
   "execution_count": 46,
   "metadata": {},
   "outputs": [
    {
     "data": {
      "image/png": "[encoded data removed]",
      "text/plain": [
       "<Figure size 432x288 with 1 Axes>"
      ]
     },
     "metadata": {
      "needs_background": "light"
     },
     "output_type": "display_data"
    }
   ],
   "source": [
    "metrics.plot_roc_curve(svclassifier, X_test, Y_test)\n",
    "plt.show() "
   ]
  },
  {
   "cell_type": "markdown",
   "metadata": {},
   "source": [
    "# Turn in the validate set"
   ]
  },
  {
   "cell_type": "code",
   "execution_count": 47,
   "metadata": {},
   "outputs": [],
   "source": [
    "valid_images = []\n",
    "folder = os.getcwd()+\"/semi-conductor-image-classification-second-stage/test/test_contest/test\"\n",
    "for filename in os.listdir(folder):\n",
    "    img = cv2.imread(os.path.join(folder,filename),0)\n",
    "    #img = cv2.resize(img, (128, 128),interpolation=cv2.INTER_NEAREST)\n",
    "    if img is not None:\n",
    "        valid_images.append(img)\n",
    "valid_data = []\n",
    "for image in valid_images:\n",
    "     valid_data.append(cv2.calcHist([image],[0],None,[256],[0,256]))\n",
    "valid_d = {}\n",
    "for i in range(valid_data[0].shape[0]):\n",
    "    valid_d[str(i)] = [j[i] for j in valid_data]\n",
    "valid_X = pd.DataFrame(data=valid_d)"
   ]
  },
  {
   "cell_type": "code",
   "execution_count": 48,
   "metadata": {},
   "outputs": [
    {
     "name": "stdout",
     "output_type": "stream",
     "text": [
      "[[0.45439251 0.54560749]\n",
      " [0.34818755 0.65181245]\n",
      " [0.74499175 0.25500825]\n",
      " ...\n",
      " [0.72009301 0.27990699]\n",
      " [0.7792588  0.2207412 ]\n",
      " [0.39237301 0.60762699]]\n"
     ]
    }
   ],
   "source": [
    "result = np.asarray(svclassifier.predict_proba(valid_X))\n",
    "Valid_Y = svclassifier.predict(valid_X)\n",
    "print(result)"
   ]
  },
  {
   "cell_type": "code",
   "execution_count": 52,
   "metadata": {},
   "outputs": [],
   "source": [
    "r = {}\n",
    "id = []\n",
    "for i in os.listdir(folder):\n",
    "    id.append(i[:-4])\n",
    "r[\"id\"] = id\n",
    "r[\"defect_score\"] = result[:,1]\n",
    "r = pd.DataFrame(data=r)"
   ]
  },
  {
   "cell_type": "code",
   "execution_count": 51,
   "metadata": {},
   "outputs": [
    {
     "name": "stdout",
     "output_type": "stream",
     "text": [
      "[0.54560749 0.65181245 0.25500825 ... 0.27990699 0.2207412  0.60762699]\n"
     ]
    }
   ],
   "source": [
    "print(result[:,1])\n",
    "r.to_csv(r'result.csv', index = False)"
   ]
  },
  {
   "cell_type": "code",
   "execution_count": null,
   "metadata": {},
   "outputs": [],
   "source": []
  }
 ],
 "metadata": {
  "kernelspec": {
   "display_name": "Python 3",
   "language": "python",
   "name": "python3"
  },
  "language_info": {
   "codemirror_mode": {
    "name": "ipython",
    "version": 3
   },
   "file_extension": ".py",
   "mimetype": "text/x-python",
   "name": "python",
   "nbconvert_exporter": "python",
   "pygments_lexer": "ipython3",
   "version": "3.8.3"
  }
 },
 "nbformat": 4,
 "nbformat_minor": 4
}
